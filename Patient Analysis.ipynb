{
 "cells": [
  {
   "cell_type": "code",
   "execution_count": 274,
   "id": "86dc0b9f",
   "metadata": {},
   "outputs": [],
   "source": [
    "#Importing required libraries \n",
    "import bamboolib as bam #easy to do data manipulation and highly recommend going to https://bamboolib.8080labs.com/ and that will help you follow along\n",
    "import pandas as pd #data manipulation\n",
    "import matplotlib.pyplot as plt\n",
    "import numpy as np\n",
    "import seaborn as sns\n",
    "import statsmodels.api as sm"
   ]
  },
  {
   "cell_type": "code",
   "execution_count": 275,
   "id": "7e78ec50",
   "metadata": {},
   "outputs": [],
   "source": [
    "patient_info = pd.read_csv(r'C:\\Users\\shyam\\Downloads\\XN Project\\Data\\patient_info(1).csv')"
   ]
  },
  {
   "cell_type": "code",
   "execution_count": 276,
   "id": "2d6843ab",
   "metadata": {},
   "outputs": [],
   "source": [
    "tbi_incident = pd.read_csv(r'C:\\Users\\shyam\\Downloads\\XN Project\\Data\\tbi_incident(1).csv')"
   ]
  },
  {
   "cell_type": "code",
   "execution_count": 277,
   "id": "d6190808",
   "metadata": {},
   "outputs": [],
   "source": [
    "new = pd.merge(tbi_incident, patient_info, how= 'inner',  on='patient_id')"
   ]
  },
  {
   "cell_type": "code",
   "execution_count": 278,
   "id": "f039b072",
   "metadata": {},
   "outputs": [
    {
     "data": {
      "application/vnd.jupyter.widget-view+json": {
       "model_id": "ab681f4357c645dfb0c0b8a5e3d6c9c1"
      },
      "text/plain": [
       "      id tbi_incident_date                                     describe_event  \\\n",
       "0    212        1984-09-15  I was beat up by a gang age 11, then beat up b...   \n",
       "1    366        1984-09-21  I was beat up by a gang age 11, and then beat ...   \n",
       "2    236        2016-06-01  In my pool exercising after rehabilitation fro...   \n",
       "3    202        2018-09-21  I was in a MVA. I was TBoned on my driver side...   \n",
       "4    278        2020-02-16  My husband had an aneurysm  which led to a Mas...   \n",
       "..   ...               ...                                                ...   \n",
       "811  717        2020-06-20                             Motor vehicle accident   \n",
       "812  388        2011-06-09  I was a passenger of a car that was hit by a d...   \n",
       "813  495        1984-06-25  In a High altitude parachute accident in the Army   \n",
       "814  802        2022-08-03                                 oyodrtdirktidrkyoi   \n",
       "815  940        2016-02-18  I was standing in the doorway of my classroom ...   \n",
       "\n",
       "             injury_from                                  head_hit_location  \\\n",
       "0                Assault  Front of Head,Left Side of Head,Top of Head,Ba...   \n",
       "1                Assault  Assault, Back of Head, Confusion, Dazed or Vac...   \n",
       "2    Subdural hemorrhage                                                NaN   \n",
       "3              Collision                                                NaN   \n",
       "4              Not known                                                NaN   \n",
       "..                   ...                                                ...   \n",
       "811             Accident                                      Front of Head   \n",
       "812             Accident                                       Back of Head   \n",
       "813             Accident             Back of Head, Neck, Right Side of Head   \n",
       "814             Military                                      Front of Head   \n",
       "815              Assault                                       Back of Head   \n",
       "\n",
       "                               patient_id  total_tbi  \\\n",
       "0    91b48894-9b6d-46ff-b0fb-124270a72810          2   \n",
       "1    91b48894-9b6d-46ff-b0fb-124270a72810          2   \n",
       "2    3d3a8086-ccad-43de-83cb-ddba3591a8ab          2   \n",
       "3    e73b4e3e-078b-4e54-9a7f-2893f3e96329          1   \n",
       "4    edae5615-0b9e-46d5-aaa1-f34c00e838f2          2   \n",
       "..                                    ...        ...   \n",
       "811  fce53830-6bb5-4736-97a4-ada0d30e3244          1   \n",
       "812  fd1e607a-6955-4bdc-aec1-d8aa079b1034          1   \n",
       "813  ff042f79-a5f3-45d9-83d6-8915a5ec65a0          3   \n",
       "814  ff4e4812-681e-4a2c-83a0-a42916dbe57a          5   \n",
       "815  a55c843f-73f8-4da7-872c-6afade97ad67          3   \n",
       "\n",
       "                          immediate_symptoms_resulting first_name  \\\n",
       "0    Loss of Consciousness,Disorientation,Incoheren...    Suannie   \n",
       "1    Assault, Confusion, Dazed or Vacant Stare, Dis...    Suannie   \n",
       "2    Loss of Consciousness,Memory Loss,Dazed or Vac...     Leslee   \n",
       "3                      I was fine. but very emotional.    Lyndsay   \n",
       "4    Loss of Consciousness,Disorientation,Confusion...      Lori    \n",
       "..                                                 ...        ...   \n",
       "811  Confusion, Disorientation, Loss of Consciousne...      Haley   \n",
       "812                 Loss of Consciousness, Memory Loss    Kristin   \n",
       "813  Confusion, Dazed or Vacant Stare, Disorientati...      Randy   \n",
       "814                  Disorientation, Incoherent Speech       trew   \n",
       "815             Disorientation,Confusion,Vision issues   Jennifer   \n",
       "\n",
       "            last_name date_of_birth  gender patient_type external_id  \n",
       "0           Eustaquio    1973-02-12  female   hasSymptom         NaN  \n",
       "1           Eustaquio    1973-02-12  female   hasSymptom         NaN  \n",
       "2            Williams    1971-01-19  female   tbiPatient         NaN  \n",
       "3             Charles    1982-07-16  female   tbiPatient         NaN  \n",
       "4               Makey    1968-05-25  female    caregiver         NaN  \n",
       "..                ...           ...     ...          ...         ...  \n",
       "811            Lucier    2000-06-12  female   tbiPatient         NaN  \n",
       "812           Pollard    1987-04-17  female   tbiPatient         NaN  \n",
       "813            Rarden    1964-08-23    male   tbiPatient         NaN  \n",
       "814              ytre    1962-09-03  female   Concussion         NaN  \n",
       "815  Gougeon Catarino    1973-10-21  female   tbiPatient         NaN  \n",
       "\n",
       "[816 rows x 14 columns]"
      ]
     },
     "metadata": {},
     "output_type": "display_data"
    }
   ],
   "source": [
    "new"
   ]
  },
  {
   "cell_type": "code",
   "execution_count": 296,
   "id": "47f4e506",
   "metadata": {},
   "outputs": [
    {
     "data": {
      "text/plain": [
       "id                              0\n",
       "tbi_incident_date               0\n",
       "injury_from                     0\n",
       "head_hit_location               0\n",
       "patient_id                      0\n",
       "total_tbi                       0\n",
       "immediate_symptoms_resulting    0\n",
       "first_name                      0\n",
       "last_name                       0\n",
       "date_of_birth                   0\n",
       "gender                          0\n",
       "patient_type                    0\n",
       "age                             0\n",
       "cluster                         0\n",
       "dtype: int64"
      ]
     },
     "execution_count": 296,
     "metadata": {},
     "output_type": "execute_result"
    }
   ],
   "source": [
    "new.isna().sum()"
   ]
  },
  {
   "cell_type": "code",
   "execution_count": 280,
   "id": "bd219e00",
   "metadata": {},
   "outputs": [
    {
     "data": {
      "application/vnd.jupyter.widget-view+json": {
       "model_id": "7bd6c60b2a0b4870b1d5d2b1b2f9818a"
      },
      "text/plain": [
       "Empty DataFrame\n",
       "Columns: [id, tbi_incident_date, describe_event, injury_from, head_hit_location, patient_id, total_tbi, immediate_symptoms_resulting, first_name, last_name, date_of_birth, gender, patient_type, external_id]\n",
       "Index: []"
      ]
     },
     "metadata": {},
     "output_type": "display_data"
    }
   ],
   "source": [
    "new[new.duplicated(['id'], keep=False)]"
   ]
  },
  {
   "cell_type": "code",
   "execution_count": 281,
   "id": "58e5d5f0",
   "metadata": {},
   "outputs": [],
   "source": [
    "new= new.drop(columns =['describe_event', 'external_id'])"
   ]
  },
  {
   "cell_type": "code",
   "execution_count": 282,
   "id": "9305d836",
   "metadata": {},
   "outputs": [],
   "source": [
    "# Identify categorical columns with missing values\n",
    "categorical_columns = ['head_hit_location', 'injury_from', 'patient_type', 'immediate_symptoms_resulting']  # Replace with your categorical column names\n",
    "\n",
    "# Fill missing values with the mode\n",
    "for column in categorical_columns:\n",
    "    mode_value = new[column].mode()[0]\n",
    "    new[column].fillna(mode_value, inplace=True)"
   ]
  },
  {
   "cell_type": "code",
   "execution_count": 283,
   "id": "a82a2f50",
   "metadata": {},
   "outputs": [],
   "source": [
    "import pandas as pd\n",
    "from datetime import datetime\n",
    "from dateutil.relativedelta import relativedelta\n",
    "\n",
    "# Convert 'date_of_birth' column to datetime\n",
    "new['date_of_birth'] = pd.to_datetime(new['date_of_birth'])\n",
    "\n",
    "# Calculate the age based on the current date\n",
    "current_date = datetime.now()\n",
    "new['age'] = new['date_of_birth'].apply(lambda x: relativedelta(current_date, x).years)\n",
    "\n"
   ]
  },
  {
   "cell_type": "code",
   "execution_count": 284,
   "id": "0a9859c6",
   "metadata": {},
   "outputs": [
    {
     "data": {
      "text/plain": [
       "id                                       int64\n",
       "tbi_incident_date                       object\n",
       "injury_from                             object\n",
       "head_hit_location                       object\n",
       "patient_id                              object\n",
       "total_tbi                                int64\n",
       "immediate_symptoms_resulting            object\n",
       "first_name                              object\n",
       "last_name                               object\n",
       "date_of_birth                   datetime64[ns]\n",
       "gender                                  object\n",
       "patient_type                            object\n",
       "age                                      int64\n",
       "dtype: object"
      ]
     },
     "execution_count": 284,
     "metadata": {},
     "output_type": "execute_result"
    }
   ],
   "source": [
    "new.dtypes"
   ]
  },
  {
   "cell_type": "code",
   "execution_count": 285,
   "id": "5b1f4f3d",
   "metadata": {},
   "outputs": [],
   "source": [
    "features = ['injury_from','head_hit_location','age', 'total_tbi']\n",
    "target = 'gender'"
   ]
  },
  {
   "cell_type": "code",
   "execution_count": 286,
   "id": "b5d0871f",
   "metadata": {},
   "outputs": [
    {
     "name": "stdout",
     "output_type": "stream",
     "text": [
      "     injury_from_& sports  injury_from_2nd was hemorrhagic stroke  \\\n",
      "0                     0.0                                     0.0   \n",
      "1                     0.0                                     0.0   \n",
      "2                     0.0                                     0.0   \n",
      "3                     0.0                                     0.0   \n",
      "4                     0.0                                     0.0   \n",
      "..                    ...                                     ...   \n",
      "811                   0.0                                     0.0   \n",
      "812                   0.0                                     0.0   \n",
      "813                   0.0                                     0.0   \n",
      "814                   0.0                                     0.0   \n",
      "815                   0.0                                     0.0   \n",
      "\n",
      "     injury_from_Accident  injury_from_Accident, spoorts....  \\\n",
      "0                     0.0                                0.0   \n",
      "1                     0.0                                0.0   \n",
      "2                     0.0                                0.0   \n",
      "3                     0.0                                0.0   \n",
      "4                     0.0                                0.0   \n",
      "..                    ...                                ...   \n",
      "811                   1.0                                0.0   \n",
      "812                   1.0                                0.0   \n",
      "813                   1.0                                0.0   \n",
      "814                   0.0                                0.0   \n",
      "815                   0.0                                0.0   \n",
      "\n",
      "     injury_from_Acquired  injury_from_Again,i am caregiver  injury_from_All  \\\n",
      "0                     0.0                               0.0              0.0   \n",
      "1                     0.0                               0.0              0.0   \n",
      "2                     0.0                               0.0              0.0   \n",
      "3                     0.0                               0.0              0.0   \n",
      "4                     0.0                               0.0              0.0   \n",
      "..                    ...                               ...              ...   \n",
      "811                   0.0                               0.0              0.0   \n",
      "812                   0.0                               0.0              0.0   \n",
      "813                   0.0                               0.0              0.0   \n",
      "814                   0.0                               0.0              0.0   \n",
      "815                   0.0                               0.0              0.0   \n",
      "\n",
      "     injury_from_Aneurysm rupture  injury_from_Anoxia  \\\n",
      "0                             0.0                 0.0   \n",
      "1                             0.0                 0.0   \n",
      "2                             0.0                 0.0   \n",
      "3                             0.0                 0.0   \n",
      "4                             0.0                 0.0   \n",
      "..                            ...                 ...   \n",
      "811                           0.0                 0.0   \n",
      "812                           0.0                 0.0   \n",
      "813                           0.0                 0.0   \n",
      "814                           0.0                 0.0   \n",
      "815                           0.0                 0.0   \n",
      "\n",
      "     injury_from_Anoxic brain injury and hx tbi/concussions  ...  \\\n",
      "0                                                  0.0       ...   \n",
      "1                                                  0.0       ...   \n",
      "2                                                  0.0       ...   \n",
      "3                                                  0.0       ...   \n",
      "4                                                  0.0       ...   \n",
      "..                                                 ...       ...   \n",
      "811                                                0.0       ...   \n",
      "812                                                0.0       ...   \n",
      "813                                                0.0       ...   \n",
      "814                                                0.0       ...   \n",
      "815                                                0.0       ...   \n",
      "\n",
      "     total_tbi_24  total_tbi_25  total_tbi_37  total_tbi_50  total_tbi_62  \\\n",
      "0             0.0           0.0           0.0           0.0           0.0   \n",
      "1             0.0           0.0           0.0           0.0           0.0   \n",
      "2             0.0           0.0           0.0           0.0           0.0   \n",
      "3             0.0           0.0           0.0           0.0           0.0   \n",
      "4             0.0           0.0           0.0           0.0           0.0   \n",
      "..            ...           ...           ...           ...           ...   \n",
      "811           0.0           0.0           0.0           0.0           0.0   \n",
      "812           0.0           0.0           0.0           0.0           0.0   \n",
      "813           0.0           0.0           0.0           0.0           0.0   \n",
      "814           0.0           0.0           0.0           0.0           0.0   \n",
      "815           0.0           0.0           0.0           0.0           0.0   \n",
      "\n",
      "     total_tbi_84  total_tbi_89  total_tbi_100  total_tbi_5000  total_tbi_8000  \n",
      "0             0.0           0.0            0.0             0.0             0.0  \n",
      "1             0.0           0.0            0.0             0.0             0.0  \n",
      "2             0.0           0.0            0.0             0.0             0.0  \n",
      "3             0.0           0.0            0.0             0.0             0.0  \n",
      "4             0.0           0.0            0.0             0.0             0.0  \n",
      "..            ...           ...            ...             ...             ...  \n",
      "811           0.0           0.0            0.0             0.0             0.0  \n",
      "812           0.0           0.0            0.0             0.0             0.0  \n",
      "813           0.0           0.0            0.0             0.0             0.0  \n",
      "814           0.0           0.0            0.0             0.0             0.0  \n",
      "815           0.0           0.0            0.0             0.0             0.0  \n",
      "\n",
      "[816 rows x 467 columns]\n"
     ]
    }
   ],
   "source": [
    "X = new[features]  # Features\n",
    "y = new[target]    # Target variable\n",
    "\n",
    "# Perform one-hot encoding on the categorical features\n",
    "encoder = OneHotEncoder()\n",
    "X_encoded = encoder.fit_transform(X)\n",
    "\n",
    "# Print the encoded data\n",
    "encoded_columns = encoder.get_feature_names_out(features)\n",
    "encoded_data = pd.DataFrame(X_encoded.toarray(), columns=encoded_columns)\n",
    "print(encoded_data)"
   ]
  },
  {
   "cell_type": "markdown",
   "id": "8e9db9c1",
   "metadata": {},
   "source": [
    "# KNN Model"
   ]
  },
  {
   "cell_type": "code",
   "execution_count": 287,
   "id": "1870eb78",
   "metadata": {},
   "outputs": [
    {
     "name": "stdout",
     "output_type": "stream",
     "text": [
      "Accuracy: 0.6979591836734694\n"
     ]
    }
   ],
   "source": [
    "from sklearn.neighbors import KNeighborsClassifier\n",
    "from sklearn.metrics import accuracy_score\n",
    "X1_train, X1_test, y_train, y_test = train_test_split(X_encoded, y, test_size=0.3, random_state=42)\n",
    "\n",
    "knn1 = KNeighborsClassifier(n_neighbors=3)\n",
    "knn1.fit(X1_train, y_train)\n",
    "y_pred1 = knn1.predict(X1_test)\n",
    "accuracy1 = accuracy_score(y_test, y_pred1)\n",
    "print(\"Accuracy:\", accuracy1)\n"
   ]
  },
  {
   "cell_type": "code",
   "execution_count": 288,
   "id": "ce9edb2b",
   "metadata": {},
   "outputs": [
    {
     "name": "stdout",
     "output_type": "stream",
     "text": [
      "KNN Model Confusion Matrix:\n",
      "[[150  17   5]\n",
      " [ 45  19   1]\n",
      " [  4   2   2]]\n",
      "KNN Model Classification Report:\n",
      "              precision    recall  f1-score   support\n",
      "\n",
      "      female       0.75      0.87      0.81       172\n",
      "        male       0.50      0.29      0.37        65\n",
      "       other       0.25      0.25      0.25         8\n",
      "\n",
      "    accuracy                           0.70       245\n",
      "   macro avg       0.50      0.47      0.48       245\n",
      "weighted avg       0.67      0.70      0.67       245\n",
      "\n"
     ]
    }
   ],
   "source": [
    "from sklearn.metrics import classification_report\n",
    "rf_y_pred = knn1.predict(X1_test)\n",
    "rf_cm = confusion_matrix(y_test, rf_y_pred)\n",
    "rf_cr = classification_report(y_test, rf_y_pred)\n",
    "\n",
    "print(\"KNN Model Confusion Matrix:\")\n",
    "print(rf_cm)\n",
    "print(\"KNN Model Classification Report:\")\n",
    "print(rf_cr)"
   ]
  },
  {
   "cell_type": "markdown",
   "id": "a607dff7",
   "metadata": {},
   "source": [
    "# Random Forest Model"
   ]
  },
  {
   "cell_type": "code",
   "execution_count": 289,
   "id": "947aee54",
   "metadata": {},
   "outputs": [
    {
     "name": "stdout",
     "output_type": "stream",
     "text": [
      "Accuracy: 0.7926829268292683\n"
     ]
    }
   ],
   "source": [
    "# Split the dataset into training and testing sets\n",
    "X_train, X_test, y_train, y_test = train_test_split(X_encoded, y, test_size=0.2, random_state=42)\n",
    "\n",
    "# Create and train the Random Forest Classifier\n",
    "rf_classifier = RandomForestClassifier(random_state=42)\n",
    "rf_classifier.fit(X_train, y_train)\n",
    "\n",
    "# Make predictions on the test set\n",
    "y_pred = rf_classifier.predict(X_test)\n",
    "\n",
    "# Evaluate the model's performance\n",
    "accuracy = accuracy_score(y_test, y_pred)\n",
    "print('Accuracy:', accuracy)"
   ]
  },
  {
   "cell_type": "code",
   "execution_count": 290,
   "id": "f9b0e7ef",
   "metadata": {},
   "outputs": [
    {
     "name": "stdout",
     "output_type": "stream",
     "text": [
      "Random Forest Confusion Matrix:\n",
      "[[114   5   0]\n",
      " [ 25  14   0]\n",
      " [  4   0   2]]\n",
      "Random Forest Classification Report:\n",
      "              precision    recall  f1-score   support\n",
      "\n",
      "      female       0.80      0.96      0.87       119\n",
      "        male       0.74      0.36      0.48        39\n",
      "       other       1.00      0.33      0.50         6\n",
      "\n",
      "    accuracy                           0.79       164\n",
      "   macro avg       0.84      0.55      0.62       164\n",
      "weighted avg       0.79      0.79      0.76       164\n",
      "\n"
     ]
    }
   ],
   "source": [
    "from sklearn.metrics import classification_report\n",
    "rf_y_pred = rf_classifier.predict(X_test)\n",
    "rf_cm = confusion_matrix(y_test, rf_y_pred)\n",
    "rf_cr = classification_report(y_test, rf_y_pred)\n",
    "\n",
    "print(\"Random Forest Confusion Matrix:\")\n",
    "print(rf_cm)\n",
    "print(\"Random Forest Classification Report:\")\n",
    "print(rf_cr)"
   ]
  },
  {
   "cell_type": "markdown",
   "id": "630aa3e4",
   "metadata": {},
   "source": [
    "# SVM Model"
   ]
  },
  {
   "cell_type": "code",
   "execution_count": 291,
   "id": "1304a29e",
   "metadata": {},
   "outputs": [
    {
     "name": "stdout",
     "output_type": "stream",
     "text": [
      "Accuracy: 0.75\n"
     ]
    }
   ],
   "source": [
    "from sklearn.svm import SVC\n",
    "from sklearn.preprocessing import LabelEncoder\n",
    "# Split the dataset into training and testing sets\n",
    "X_train, X_test, y_train, y_test = train_test_split(X_encoded, y, test_size=0.2, random_state=42)\n",
    "\n",
    "# Create and train the Support Vector Machine Classifier\n",
    "svm_classifier = SVC(kernel=\"rbf\", gamma=0.5, C=1.0)\n",
    "svm_classifier.fit(X_train, y_train)\n",
    "\n",
    "# Make predictions on the test set\n",
    "y_pred = svm_classifier.predict(X_test)\n",
    "\n",
    "# Evaluate the model's performance\n",
    "accuracy = accuracy_score(y_test, y_pred)\n",
    "print('Accuracy:', accuracy)"
   ]
  },
  {
   "cell_type": "code",
   "execution_count": 292,
   "id": "b6b80512",
   "metadata": {},
   "outputs": [
    {
     "name": "stdout",
     "output_type": "stream",
     "text": [
      "SVM Confusion Matrix:\n",
      "[[117   2   0]\n",
      " [ 33   6   0]\n",
      " [  6   0   0]]\n",
      "SVM Classification Report:\n",
      "              precision    recall  f1-score   support\n",
      "\n",
      "      female       0.75      0.98      0.85       119\n",
      "        male       0.75      0.15      0.26        39\n",
      "       other       0.00      0.00      0.00         6\n",
      "\n",
      "    accuracy                           0.75       164\n",
      "   macro avg       0.50      0.38      0.37       164\n",
      "weighted avg       0.72      0.75      0.68       164\n",
      "\n"
     ]
    }
   ],
   "source": [
    "from sklearn.metrics import classification_report\n",
    "rf_y_pred = svm_classifier.predict(X_test)\n",
    "rf_cm = confusion_matrix(y_test, rf_y_pred)\n",
    "rf_cr = classification_report(y_test, rf_y_pred)\n",
    "\n",
    "print(\"SVM Confusion Matrix:\")\n",
    "print(rf_cm)\n",
    "print(\"SVM Classification Report:\")\n",
    "print(rf_cr)"
   ]
  },
  {
   "cell_type": "code",
   "execution_count": 318,
   "id": "2a8bb6c9",
   "metadata": {},
   "outputs": [
    {
     "data": {
      "application/vnd.jupyter.widget-view+json": {
       "model_id": "200cca0411a342f5b3b2aa7fe02d615f"
      },
      "text/plain": [
       "      id tbi_incident_date          injury_from  \\\n",
       "0    212        1984-09-15              Assault   \n",
       "1    366        1984-09-21              Assault   \n",
       "2    236        2016-06-01  Subdural hemorrhage   \n",
       "3    202        2018-09-21            Collision   \n",
       "4    278        2020-02-16            Not known   \n",
       "..   ...               ...                  ...   \n",
       "811  717        2020-06-20             Accident   \n",
       "812  388        2011-06-09             Accident   \n",
       "813  495        1984-06-25             Accident   \n",
       "814  802        2022-08-03             Military   \n",
       "815  940        2016-02-18              Assault   \n",
       "\n",
       "                                     head_hit_location  \\\n",
       "0    Front of Head,Left Side of Head,Top of Head,Ba...   \n",
       "1    Assault, Back of Head, Confusion, Dazed or Vac...   \n",
       "2                                         Back of Head   \n",
       "3                                         Back of Head   \n",
       "4                                         Back of Head   \n",
       "..                                                 ...   \n",
       "811                                      Front of Head   \n",
       "812                                       Back of Head   \n",
       "813             Back of Head, Neck, Right Side of Head   \n",
       "814                                      Front of Head   \n",
       "815                                       Back of Head   \n",
       "\n",
       "                               patient_id  total_tbi  \\\n",
       "0    91b48894-9b6d-46ff-b0fb-124270a72810          2   \n",
       "1    91b48894-9b6d-46ff-b0fb-124270a72810          2   \n",
       "2    3d3a8086-ccad-43de-83cb-ddba3591a8ab          2   \n",
       "3    e73b4e3e-078b-4e54-9a7f-2893f3e96329          1   \n",
       "4    edae5615-0b9e-46d5-aaa1-f34c00e838f2          2   \n",
       "..                                    ...        ...   \n",
       "811  fce53830-6bb5-4736-97a4-ada0d30e3244          1   \n",
       "812  fd1e607a-6955-4bdc-aec1-d8aa079b1034          1   \n",
       "813  ff042f79-a5f3-45d9-83d6-8915a5ec65a0          3   \n",
       "814  ff4e4812-681e-4a2c-83a0-a42916dbe57a          5   \n",
       "815  a55c843f-73f8-4da7-872c-6afade97ad67          3   \n",
       "\n",
       "                          immediate_symptoms_resulting first_name  \\\n",
       "0    Loss of Consciousness,Disorientation,Incoheren...    Suannie   \n",
       "1    Assault, Confusion, Dazed or Vacant Stare, Dis...    Suannie   \n",
       "2    Loss of Consciousness,Memory Loss,Dazed or Vac...     Leslee   \n",
       "3                      I was fine. but very emotional.    Lyndsay   \n",
       "4    Loss of Consciousness,Disorientation,Confusion...      Lori    \n",
       "..                                                 ...        ...   \n",
       "811  Confusion, Disorientation, Loss of Consciousne...      Haley   \n",
       "812                 Loss of Consciousness, Memory Loss    Kristin   \n",
       "813  Confusion, Dazed or Vacant Stare, Disorientati...      Randy   \n",
       "814                  Disorientation, Incoherent Speech       trew   \n",
       "815             Disorientation,Confusion,Vision issues   Jennifer   \n",
       "\n",
       "            last_name date_of_birth  gender patient_type  age  cluster  \n",
       "0           Eustaquio    1973-02-12  female   hasSymptom   50        0  \n",
       "1           Eustaquio    1973-02-12  female   hasSymptom   50        0  \n",
       "2            Williams    1971-01-19  female   tbiPatient   52        0  \n",
       "3             Charles    1982-07-16  female   tbiPatient   40        2  \n",
       "4               Makey    1968-05-25  female    caregiver   55        0  \n",
       "..                ...           ...     ...          ...  ...      ...  \n",
       "811            Lucier    2000-06-12  female   tbiPatient   23        1  \n",
       "812           Pollard    1987-04-17  female   tbiPatient   36        1  \n",
       "813            Rarden    1964-08-23    male   tbiPatient   58        1  \n",
       "814              ytre    1962-09-03  female   Concussion   60        0  \n",
       "815  Gougeon Catarino    1973-10-21  female   tbiPatient   49        0  \n",
       "\n",
       "[816 rows x 14 columns]"
      ]
     },
     "metadata": {},
     "output_type": "display_data"
    }
   ],
   "source": [
    "new"
   ]
  },
  {
   "cell_type": "code",
   "execution_count": 316,
   "id": "38d8af88",
   "metadata": {},
   "outputs": [],
   "source": [
    "features = ['age']\n",
    "target = 'gender'\n",
    "X = new[features]  # Features\n",
    "y = new[target]    # Target variable\n",
    "\n",
    "# Perform one-hot encoding on the categorical features\n",
    "encoder = OneHotEncoder()\n",
    "X_encoded = encoder.fit_transform(X)"
   ]
  },
  {
   "cell_type": "code",
   "execution_count": 324,
   "id": "f0144a00",
   "metadata": {},
   "outputs": [
    {
     "name": "stdout",
     "output_type": "stream",
     "text": [
      "Train Silhouette Score: 0.6868828513000281\n",
      "Test Silhouette Score: 0.5920350609756101\n"
     ]
    }
   ],
   "source": [
    "from sklearn.cluster import KMeans\n",
    "from sklearn.metrics import silhouette_score\n",
    "\n",
    "# Split the data into training and testing sets (assuming X_encoded and y are already defined)\n",
    "X_train, X_test, y_train, y_test = train_test_split(X_encoded, y, test_size=0.2, random_state=42)\n",
    "\n",
    "# Perform K-means clustering\n",
    "kmeans = KMeans(n_clusters=30)  # Specify the number of clusters\n",
    "kmeans.fit(X_train)\n",
    "\n",
    "# Get the predicted clusters for each data point\n",
    "train_clusters = kmeans.predict(X_train)\n",
    "test_clusters = kmeans.predict(X_test)\n",
    "\n",
    "# Evaluate the quality of the clustering using silhouette score\n",
    "train_silhouette = silhouette_score(X_train, train_clusters)\n",
    "test_silhouette = silhouette_score(X_test, test_clusters)\n",
    "\n",
    "print(\"Train Silhouette Score:\", train_silhouette)\n",
    "print(\"Test Silhouette Score:\", test_silhouette)\n"
   ]
  },
  {
   "cell_type": "code",
   "execution_count": null,
   "id": "4a5af48f",
   "metadata": {},
   "outputs": [],
   "source": []
  }
 ],
 "metadata": {
  "kernelspec": {
   "display_name": "Python 3 (ipykernel)",
   "language": "python",
   "name": "python3"
  },
  "language_info": {
   "codemirror_mode": {
    "name": "ipython",
    "version": 3
   },
   "file_extension": ".py",
   "mimetype": "text/x-python",
   "name": "python",
   "nbconvert_exporter": "python",
   "pygments_lexer": "ipython3",
   "version": "3.10.9"
  }
 },
 "nbformat": 4,
 "nbformat_minor": 5
}
